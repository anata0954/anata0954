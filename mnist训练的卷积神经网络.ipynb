{
 "cells": [
  {
   "cell_type": "markdown",
   "metadata": {},
   "source": [
    "### 构建卷积神经网络"
   ]
  },
  {
   "cell_type": "code",
   "execution_count": 8,
   "metadata": {},
   "outputs": [],
   "source": [
    "import torch\n",
    "import torch.nn as nn\n",
    "import torch.optim as optim\n",
    "import torch.nn.functional as F\n",
    "from torchvision import datasets,transforms \n",
    "import matplotlib.pyplot as plt\n",
    "import numpy as np\n",
    "%matplotlib inline"
   ]
  },
  {
   "cell_type": "markdown",
   "metadata": {},
   "source": [
    "### 首先读取数据\n",
    "- 分别构建训练集和测试集\n",
    "- DataLoader来迭代取数据"
   ]
  },
  {
   "cell_type": "code",
   "execution_count": 9,
   "metadata": {},
   "outputs": [],
   "source": [
    "# 定义超参数 \n",
    "input_size = 28  #输入图像的尺寸28*28\n",
    "num_classes = 10  #标签的种类数\n",
    "num_epochs = 2  #训练的总循环周期\n",
    "batch_size = 64  #一个batch的大小为64张图片\n",
    "\n",
    "# 加载训练集\n",
    "train_dataset = datasets.MNIST(root='./data',  \n",
    "                            train=True,   \n",
    "                            transform=transforms.ToTensor(),  \n",
    "                            download=True) \n",
    "\n",
    "# 加载测试集\n",
    "test_dataset = datasets.MNIST(root='./data', \n",
    "                           train=False, \n",
    "                           transform=transforms.ToTensor())\n",
    "\n",
    "# 构建batch数据\n",
    "train_loader = torch.utils.data.DataLoader(dataset=train_dataset, \n",
    "                                           batch_size=batch_size, \n",
    "                                           shuffle=True)\n",
    "test_loader = torch.utils.data.DataLoader(dataset=test_dataset, \n",
    "                                           batch_size=batch_size, \n",
    "                                           shuffle=True)"
   ]
  },
  {
   "cell_type": "markdown",
   "metadata": {},
   "source": [
    "### 卷积网络模块构建\n",
    "- 一般卷积层，relu层，池化层可以写成一个单元\n",
    "- 注意卷积最后结果还是一个特征图，需要把图转换成向量才能继续做分类或者回归任务"
   ]
  },
  {
   "cell_type": "code",
   "execution_count": 10,
   "metadata": {},
   "outputs": [],
   "source": [
    "class CNN(nn.Module):\n",
    "    def __init__(self):\n",
    "        super(CNN, self).__init__()\n",
    "        # 第一个卷积单元\n",
    "        self.conv1 = nn.Sequential(         # 输入大小 28*28*1\n",
    "            nn.Conv2d(\n",
    "                in_channels=1,              # 输入特征图的个数\n",
    "                out_channels=16,            # 卷积核的个数，输出特征图的个数\n",
    "                kernel_size=5,              # 卷积核大小\n",
    "                stride=1,                   # 步长\n",
    "                padding=2,                  # 保证卷积后大小跟原来一样\n",
    "            ),                              # 输出的特征图为 28*28*16\n",
    "            nn.ReLU(),                      # relu层\n",
    "            nn.MaxPool2d(kernel_size=2),    # 进行池化操作（2*2 区域）, 输出14*14*16\n",
    "        )\n",
    "        # 第二个卷积单元\n",
    "        self.conv2 = nn.Sequential(         # 输入 14*14*16\n",
    "            nn.Conv2d(16, 32, 5, 1, 2),     # 卷积层输出 14*14*32\n",
    "            nn.ReLU(),                      # relu层\n",
    "            nn.MaxPool2d(2),                # 池化层输出 7*7*32\n",
    "        )\n",
    "        self.out = nn.Linear(32 * 7 * 7, 10)   # 全连接层得到结果\n",
    "\n",
    "    def forward(self, x):\n",
    "        x = self.conv1(x)\n",
    "        x = self.conv2(x)\n",
    "        # 全连接层之前把矩阵拉成长向量\n",
    "        # flatten操作，结果为：(batch_size, 32 * 7 * 7)\n",
    "        x = x.view(x.size(0), -1)          \n",
    "        output = self.out(x)\n",
    "        return output"
   ]
  },
  {
   "cell_type": "markdown",
   "metadata": {},
   "source": [
    "### 准确率作为评估标准"
   ]
  },
  {
   "cell_type": "code",
   "execution_count": 11,
   "metadata": {},
   "outputs": [],
   "source": [
    "def accuracy(predictions, labels):\n",
    "    # 取概率最大的种类为预测值\n",
    "    pred = torch.max(predictions.data, 1)[1] \n",
    "    # rights为正确预测的个数，把储存正确标签的数组拉成pred相同的格式\n",
    "    rights = pred.eq(labels.data.view_as(pred)).sum() \n",
    "    return rights, len(labels) "
   ]
  },
  {
   "cell_type": "markdown",
   "metadata": {},
   "source": [
    "### 训练网络模型"
   ]
  },
  {
   "cell_type": "code",
   "execution_count": 12,
   "metadata": {},
   "outputs": [
    {
     "name": "stdout",
     "output_type": "stream",
     "text": [
      "当前epoch: 1 [0/60000]\t损失: 2.305474\t训练集准确率: 9.38%\t测试集准确率: 11.23%\n",
      "当前epoch: 1 [6400/60000]\t损失: 0.540366\t训练集准确率: 76.50%\t测试集准确率: 91.31%\n",
      "当前epoch: 1 [12800/60000]\t损失: 0.311992\t训练集准确率: 84.41%\t测试集准确率: 94.55%\n",
      "当前epoch: 1 [19200/60000]\t损失: 0.155483\t训练集准确率: 87.86%\t测试集准确率: 96.08%\n",
      "当前epoch: 1 [25600/60000]\t损失: 0.038801\t训练集准确率: 89.79%\t测试集准确率: 96.65%\n",
      "当前epoch: 1 [32000/60000]\t损失: 0.077894\t训练集准确率: 91.25%\t测试集准确率: 97.31%\n",
      "当前epoch: 1 [38400/60000]\t损失: 0.159698\t训练集准确率: 92.20%\t测试集准确率: 97.57%\n",
      "当前epoch: 1 [44800/60000]\t损失: 0.082892\t训练集准确率: 92.94%\t测试集准确率: 98.04%\n",
      "当前epoch: 1 [51200/60000]\t损失: 0.223878\t训练集准确率: 93.51%\t测试集准确率: 98.02%\n",
      "当前epoch: 1 [57600/60000]\t损失: 0.091114\t训练集准确率: 93.96%\t测试集准确率: 98.17%\n",
      "当前epoch: 2 [0/60000]\t损失: 0.068678\t训练集准确率: 96.88%\t测试集准确率: 98.18%\n",
      "当前epoch: 2 [6400/60000]\t损失: 0.126177\t训练集准确率: 97.88%\t测试集准确率: 98.08%\n",
      "当前epoch: 2 [12800/60000]\t损失: 0.061812\t训练集准确率: 97.93%\t测试集准确率: 97.72%\n",
      "当前epoch: 2 [19200/60000]\t损失: 0.021864\t训练集准确率: 97.92%\t测试集准确率: 98.15%\n",
      "当前epoch: 2 [25600/60000]\t损失: 0.038583\t训练集准确率: 98.00%\t测试集准确率: 98.24%\n",
      "当前epoch: 2 [32000/60000]\t损失: 0.077274\t训练集准确率: 98.08%\t测试集准确率: 98.35%\n",
      "当前epoch: 2 [38400/60000]\t损失: 0.061716\t训练集准确率: 98.11%\t测试集准确率: 98.48%\n",
      "当前epoch: 2 [44800/60000]\t损失: 0.080583\t训练集准确率: 98.14%\t测试集准确率: 98.33%\n",
      "当前epoch: 2 [51200/60000]\t损失: 0.034987\t训练集准确率: 98.15%\t测试集准确率: 98.63%\n",
      "当前epoch: 2 [57600/60000]\t损失: 0.093937\t训练集准确率: 98.18%\t测试集准确率: 98.48%\n"
     ]
    }
   ],
   "source": [
    "# 实例化\n",
    "net = CNN() \n",
    "# 交叉熵损失函数\n",
    "criterion = nn.CrossEntropyLoss() \n",
    "# 优化器,用Adam进行优化 （用SGD优化的最后准确率只有0.84）\n",
    "optimizer = optim.Adam(net.parameters(), lr=0.001) \n",
    "\n",
    "#开始训练循环\n",
    "for epoch in range(num_epochs):\n",
    "    #当前epoch的结果保存下来\n",
    "    train_rights = [] \n",
    "    \n",
    "    #针对容器中的每一个batch进行循环\n",
    "    # enumerate() 遍历，会给出索引和数据  batch_idx--index  data  target--correct labels\n",
    "    for batch_idx, (data, target) in enumerate(train_loader):  \n",
    "        net.train()                             \n",
    "        output = net(data) \n",
    "        loss = criterion(output, target) \n",
    "        # 将梯度值置零，否则会累加\n",
    "        optimizer.zero_grad() \n",
    "        # 反向传播\n",
    "        loss.backward() \n",
    "        # 更新参数\n",
    "        optimizer.step() \n",
    "        right = accuracy(output, target) \n",
    "        # 正确预测的个数存入train_rights\n",
    "        train_rights.append(right) \n",
    "\n",
    "    \n",
    "        if batch_idx % 100 == 0: \n",
    "            # 验证集上不用做反向传播及更新参数，只要计算准确率\n",
    "            net.eval() \n",
    "            val_rights = [] \n",
    "            \n",
    "            for (data, target) in test_loader:\n",
    "                output = net(data) \n",
    "                right = accuracy(output, target) \n",
    "                val_rights.append(right)\n",
    "                \n",
    "            #准确率计算\n",
    "            train_r = (sum([tup[0] for tup in train_rights]), sum([tup[1] for tup in train_rights]))\n",
    "            val_r = (sum([tup[0] for tup in val_rights]), sum([tup[1] for tup in val_rights]))\n",
    "\n",
    "            print('当前epoch: {} [{}/{}]\\t损失: {:.6f}\\t训练集准确率: {:.2f}%\\t测试集准确率: {:.2f}%'.format(\n",
    "                epoch+1, batch_idx * batch_size, len(train_loader.dataset),loss.data, \n",
    "                # 把数据从tensor转化成Ndarray\n",
    "                100. * train_r[0].numpy() / train_r[1], \n",
    "                100. * val_r[0].numpy() / val_r[1]))"
   ]
  },
  {
   "cell_type": "code",
   "execution_count": null,
   "metadata": {},
   "outputs": [],
   "source": []
  },
  {
   "cell_type": "code",
   "execution_count": null,
   "metadata": {},
   "outputs": [],
   "source": []
  }
 ],
 "metadata": {
  "kernelspec": {
   "display_name": "Python 3",
   "language": "python",
   "name": "python3"
  },
  "language_info": {
   "codemirror_mode": {
    "name": "ipython",
    "version": 3
   },
   "file_extension": ".py",
   "mimetype": "text/x-python",
   "name": "python",
   "nbconvert_exporter": "python",
   "pygments_lexer": "ipython3",
   "version": "3.7.3"
  }
 },
 "nbformat": 4,
 "nbformat_minor": 2
}
